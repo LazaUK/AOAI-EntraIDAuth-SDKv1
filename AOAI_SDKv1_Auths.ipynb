{
 "cells": [
  {
   "attachments": {},
   "cell_type": "markdown",
   "metadata": {},
   "source": [
    "# Azure OpenAI - authentication options, using openai Python package v1.x"
   ]
  },
  {
   "cell_type": "markdown",
   "metadata": {},
   "source": [
    "### 1. Authentication with Azure OpenAI API key"
   ]
  },
  {
   "cell_type": "code",
   "execution_count": 1,
   "metadata": {},
   "outputs": [],
   "source": [
    "\"\"\"\n",
    "Define Azure OpenAI endpoint parameters\n",
    "    - Set AOAI API Version to env variable OPENAI_API_VERSION\n",
    "    - Set AOAI API Endpoint to env variable OPENAI_API_BASE\n",
    "    - Set AOAI API Key to env variable OPENAI_API_KEY\n",
    "    - Set AOAI Deployment Name to env variable OPENAI_API_DEPLOY\n",
    "\"\"\"\n",
    "\n",
    "# Importing required packages\n",
    "from openai import AzureOpenAI\n",
    "import os"
   ]
  },
  {
   "cell_type": "code",
   "execution_count": 2,
   "metadata": {},
   "outputs": [],
   "source": [
    "# Initiating Azure OpenAI client\n",
    "client1 = AzureOpenAI(\n",
    "    azure_endpoint = os.getenv(\"OPENAI_API_BASE\"),\n",
    "    api_key = os.getenv(\"OPENAI_API_KEY\"),\n",
    "    api_version = os.getenv(\"OPENAI_API_VERSION\")\n",
    ")"
   ]
  },
  {
   "cell_type": "code",
   "execution_count": 3,
   "metadata": {},
   "outputs": [
    {
     "name": "stdout",
     "output_type": "stream",
     "text": [
      "Neptune is the eighth and farthest known planet from the Sun in our solar system. It is a giant planet composed primarily of hydrogen and helium, with traces of methane, giving it a striking blue appearance. Neptune has a dynamic atmosphere with the fastest winds in the solar system, reaching speeds of over 1,100 miles per hour, and a series of dark spots caused by storm activities.\n"
     ]
    }
   ],
   "source": [
    "# Submitting a completion request to Azure OpenAI\n",
    "response = client1.chat.completions.create(\n",
    "    model = os.getenv(\"OPENAI_API_DEPLOY\"), # model = \"Azure OpenAI deployment name\".\n",
    "    messages = [\n",
    "        {\"role\": \"system\", \"content\": \"You are a friendly chatbot\"},\n",
    "        {\"role\": \"user\", \"content\": \"Choose a random planet and describe it to me in 3 sentences.\"}\n",
    "    ]\n",
    ")\n",
    "\n",
    "# Checking the response JSON structure\n",
    "# print(response.model_dump_json(indent=4))\n",
    "\n",
    "# Printing the response\n",
    "print(response.choices[0].message.content)"
   ]
  },
  {
   "cell_type": "markdown",
   "metadata": {},
   "source": [
    "### 2. Authentication with Entra ID (individual access token)"
   ]
  },
  {
   "cell_type": "code",
   "execution_count": 4,
   "metadata": {},
   "outputs": [],
   "source": [
    "# Importing required packages\n",
    "from azure.identity import InteractiveBrowserCredential, get_bearer_token_provider\n",
    "from openai import AzureOpenAI\n",
    "import os"
   ]
  },
  {
   "cell_type": "markdown",
   "metadata": {},
   "source": [
    "Please ensure that you have \"**Cognitive Service OpenAI User**\" role assigned to yourself on Azure OpenAI resource."
   ]
  },
  {
   "cell_type": "code",
   "execution_count": 5,
   "metadata": {},
   "outputs": [],
   "source": [
    "# Initiating Entra ID token provider via Browser session\n",
    "token_provider2 = get_bearer_token_provider(\n",
    "    InteractiveBrowserCredential(),\n",
    "    \"https://cognitiveservices.azure.com/.default\"\n",
    ")"
   ]
  },
  {
   "cell_type": "code",
   "execution_count": 6,
   "metadata": {},
   "outputs": [],
   "source": [
    "# Initiating Azure OpenAI client\n",
    "client2 = AzureOpenAI(\n",
    "    azure_endpoint = os.getenv(\"OPENAI_API_BASE\"),\n",
    "    azure_ad_token_provider = token_provider2,\n",
    "    api_version = os.getenv(\"OPENAI_API_VERSION\")\n",
    ")"
   ]
  },
  {
   "cell_type": "code",
   "execution_count": 7,
   "metadata": {},
   "outputs": [
    {
     "name": "stdout",
     "output_type": "stream",
     "text": [
      "The sunflower, a vibrant echo of the summer sun, stands tall with its large, rough stem that hoists the bright yellow petals aloft. Each flower is actually a composite of hundreds of small florets that cluster together to form the eye-catching disk, circled by the flamboyant sun-like halo. This cheerful bloom not only follows the day's sun, performing a slow dance from east to west, but is also a symbol of loyalty and adoration.\n"
     ]
    }
   ],
   "source": [
    "# Submitting a completion request to Azure OpenAI\n",
    "response2 = client2.chat.completions.create(\n",
    "    model = os.getenv(\"OPENAI_API_DEPLOY\"), # model = \"Azure OpenAI deployment name\".\n",
    "    messages = [\n",
    "        {\"role\": \"system\", \"content\": \"You are a friendly chatbot\"},\n",
    "        {\"role\": \"user\", \"content\": \"Choose a random flower and describe it to me in 3 sentences.\"}\n",
    "    ]\n",
    ")\n",
    "\n",
    "# Printing the response\n",
    "print(response2.choices[0].message.content)"
   ]
  },
  {
   "cell_type": "markdown",
   "metadata": {},
   "source": [
    "### 3. Authentication with Entra ID (Service Principal)"
   ]
  },
  {
   "cell_type": "code",
   "execution_count": 8,
   "metadata": {},
   "outputs": [],
   "source": [
    "# Importing required packages\n",
    "from azure.identity import EnvironmentCredential, get_bearer_token_provider\n",
    "from openai import AzureOpenAI\n",
    "import os"
   ]
  },
  {
   "cell_type": "markdown",
   "metadata": {},
   "source": [
    "Specifics of the EnvironmentCredential class' use can be found here: https://learn.microsoft.com/en-us/python/api/azure-identity/azure.identity.environmentcredential?view=azure-python\n",
    "\n",
    "You would need to assign your SP's details to **AZURE_TENANT_ID**, **AZURE_CLIENT_ID** and **AZURE_CLIENT_SECRET** environment variables.\n",
    "\n",
    "Please also ensure that you service principal has \"**Cognitive Service OpenAI User**\" role assigned to it on Azure OpenAI resource."
   ]
  },
  {
   "cell_type": "code",
   "execution_count": 9,
   "metadata": {},
   "outputs": [],
   "source": [
    "# Initiating Entra ID token provider via Browser session\n",
    "token_provider3 = get_bearer_token_provider(\n",
    "    EnvironmentCredential(),\n",
    "    \"https://cognitiveservices.azure.com/.default\"\n",
    ")"
   ]
  },
  {
   "cell_type": "code",
   "execution_count": 10,
   "metadata": {},
   "outputs": [],
   "source": [
    "# Initiating Azure OpenAI client\n",
    "client3 = AzureOpenAI(\n",
    "    azure_endpoint = os.getenv(\"OPENAI_API_BASE\"),\n",
    "    azure_ad_token_provider = token_provider3,\n",
    "    api_version = os.getenv(\"OPENAI_API_VERSION\")\n",
    ")"
   ]
  },
  {
   "cell_type": "code",
   "execution_count": 11,
   "metadata": {},
   "outputs": [
    {
     "name": "stdout",
     "output_type": "stream",
     "text": [
      "The animal I've chosen is the giraffe. Giraffes are the tallest mammals on Earth, their legs alone can be taller than most humans—about 6 feet. They have a distinctive spotted coat and a long neck which they use to reach leaves, fruits, and flowers high up in Acacia trees.\n"
     ]
    }
   ],
   "source": [
    "# Submitting a completion request to Azure OpenAI\n",
    "response3 = client3.chat.completions.create(\n",
    "    model = os.getenv(\"OPENAI_API_DEPLOY\"), # model = \"Azure OpenAI deployment name\".\n",
    "    messages = [\n",
    "        {\"role\": \"system\", \"content\": \"You are a friendly chatbot\"},\n",
    "        {\"role\": \"user\", \"content\": \"Choose a random animal and describe it to me in 3 sentences.\"}\n",
    "    ]\n",
    ")\n",
    "\n",
    "# Printing the response\n",
    "print(response3.choices[0].message.content)"
   ]
  },
  {
   "cell_type": "code",
   "execution_count": null,
   "metadata": {},
   "outputs": [],
   "source": []
  }
 ],
 "metadata": {
  "kernelspec": {
   "display_name": "Python 3",
   "language": "python",
   "name": "python3"
  },
  "language_info": {
   "codemirror_mode": {
    "name": "ipython",
    "version": 3
   },
   "file_extension": ".py",
   "mimetype": "text/x-python",
   "name": "python",
   "nbconvert_exporter": "python",
   "pygments_lexer": "ipython3",
   "version": "3.8.10"
  },
  "orig_nbformat": 4
 },
 "nbformat": 4,
 "nbformat_minor": 2
}
