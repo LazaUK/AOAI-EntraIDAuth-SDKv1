{
 "cells": [
  {
   "attachments": {},
   "cell_type": "markdown",
   "metadata": {},
   "source": [
    "# Azure OpenAI - authentication options, using openai Python package v1.x"
   ]
  },
  {
   "cell_type": "markdown",
   "metadata": {},
   "source": [
    "### 1. Authentication with Azure OpenAI API key"
   ]
  },
  {
   "cell_type": "code",
   "execution_count": 1,
   "metadata": {},
   "outputs": [],
   "source": [
    "\"\"\"\n",
    "Define Azure OpenAI endpoint parameters\n",
    "    - Set AOAI API Version to env variable OPENAI_API_VERSION\n",
    "    - Set AOAI API Endpoint to env variable OPENAI_API_BASE\n",
    "    - Set AOAI API Key to env variable OPENAI_API_KEY\n",
    "    - Set AOAI Deployment Name to env variable OPENAI_API_DEPLOY\n",
    "\"\"\"\n",
    "\n",
    "# Importing required packages\n",
    "from openai import AzureOpenAI\n",
    "import os"
   ]
  },
  {
   "cell_type": "code",
   "execution_count": 2,
   "metadata": {},
   "outputs": [],
   "source": [
    "# Initiating Azure OpenAI client\n",
    "client1 = AzureOpenAI(\n",
    "    azure_endpoint = os.getenv(\"OPENAI_API_BASE\"),\n",
    "    api_key = os.getenv(\"OPENAI_API_KEY\"),\n",
    "    api_version = os.getenv(\"OPENAI_API_VERSION\")\n",
    ")"
   ]
  },
  {
   "cell_type": "code",
   "execution_count": 3,
   "metadata": {},
   "outputs": [
    {
     "name": "stdout",
     "output_type": "stream",
     "text": [
      "Uranus is a gas giant and the seventh planet from the Sun in our Solar System, distinct for rotating on its side with an axial tilt of 98 degrees. It has a pale blue color due to the presence of methane in its atmosphere, which absorbs red light and reflects blue. Uranus is encircled by a system of rings and at least 27 known moons, with the largest ones being Titania, Oberon, Umbriel, Ariel, and Miranda.\n"
     ]
    }
   ],
   "source": [
    "# Submitting a completion request to Azure OpenAI\n",
    "response = client1.chat.completions.create(\n",
    "    model = os.getenv(\"OPENAI_API_DEPLOY\"), # model = \"Azure OpenAI deployment name\".\n",
    "    messages = [\n",
    "        {\"role\": \"system\", \"content\": \"You are a friendly chatbot\"},\n",
    "        {\"role\": \"user\", \"content\": \"Choose a random planet and describe it to me in 3 sentences.\"}\n",
    "    ]\n",
    ")\n",
    "\n",
    "# Checking the response JSON structure\n",
    "# print(response.model_dump_json(indent=4))\n",
    "\n",
    "# Printing the response\n",
    "print(response.choices[0].message.content)"
   ]
  },
  {
   "cell_type": "markdown",
   "metadata": {},
   "source": [
    "### 2. Authentication with Entra ID (individual access token)"
   ]
  },
  {
   "cell_type": "code",
   "execution_count": 4,
   "metadata": {},
   "outputs": [],
   "source": [
    "# Importing required packages\n",
    "from azure.identity import InteractiveBrowserCredential, get_bearer_token_provider\n",
    "from openai import AzureOpenAI\n",
    "import os"
   ]
  },
  {
   "cell_type": "markdown",
   "metadata": {},
   "source": [
    "Please ensure that you have \"**Cognitive Service OpenAI User**\" role assigned to yourself on Azure OpenAI resource."
   ]
  },
  {
   "cell_type": "code",
   "execution_count": 5,
   "metadata": {},
   "outputs": [],
   "source": [
    "# Initiating Entra ID token provider via Browser session\n",
    "token_provider2 = get_bearer_token_provider(\n",
    "    InteractiveBrowserCredential(),\n",
    "    \"https://cognitiveservices.azure.com/.default\"\n",
    ")"
   ]
  },
  {
   "cell_type": "code",
   "execution_count": 6,
   "metadata": {},
   "outputs": [],
   "source": [
    "# Initiating Azure OpenAI client\n",
    "client2 = AzureOpenAI(\n",
    "    azure_endpoint = os.getenv(\"OPENAI_API_BASE\"),\n",
    "    azure_ad_token_provider = token_provider2,\n",
    "    api_version = os.getenv(\"OPENAI_API_VERSION\")\n",
    ")"
   ]
  },
  {
   "cell_type": "code",
   "execution_count": 7,
   "metadata": {},
   "outputs": [
    {
     "name": "stdout",
     "output_type": "stream",
     "text": [
      "Let's talk about the cherry blossom. Cherry blossoms, or \"sakura\" in Japanese, are known for their delicate pink petals and are emblematic of transient beauty because they bloom spectacularly but fade quickly, often within a week or two. They are a quintessential symbol of spring in many parts of Asia, particularly in Japan, where people celebrate the blooming during the Hanami festival by having picnics and gatherings under the blooming trees.\n"
     ]
    }
   ],
   "source": [
    "# Submitting a completion request to Azure OpenAI\n",
    "response2 = client2.chat.completions.create(\n",
    "    model = os.getenv(\"OPENAI_API_DEPLOY\"), # model = \"Azure OpenAI deployment name\".\n",
    "    messages = [\n",
    "        {\"role\": \"system\", \"content\": \"You are a friendly chatbot\"},\n",
    "        {\"role\": \"user\", \"content\": \"Choose a random flower and describe it to me in 3 sentences.\"}\n",
    "    ]\n",
    ")\n",
    "\n",
    "# Printing the response\n",
    "print(response2.choices[0].message.content)"
   ]
  },
  {
   "cell_type": "markdown",
   "metadata": {},
   "source": [
    "### 3. Authentication with Entra ID (Service Principal)"
   ]
  },
  {
   "cell_type": "code",
   "execution_count": 8,
   "metadata": {},
   "outputs": [],
   "source": [
    "# Importing required packages\n",
    "from azure.identity import EnvironmentCredential, get_bearer_token_provider\n",
    "from openai import AzureOpenAI\n",
    "import os"
   ]
  },
  {
   "cell_type": "markdown",
   "metadata": {},
   "source": [
    "Specifics of the EnvironmentCredential class' use can be found here: https://learn.microsoft.com/en-us/python/api/azure-identity/azure.identity.environmentcredential?view=azure-python\n",
    "\n",
    "You would need to assign your SP's details to **AZURE_TENANT_ID**, **AZURE_CLIENT_ID** and **AZURE_CLIENT_SECRET** environment variables.\n",
    "\n",
    "Please also ensure that your service principal has \"**Cognitive Service OpenAI User**\" role assigned to it on Azure OpenAI resource."
   ]
  },
  {
   "cell_type": "code",
   "execution_count": 9,
   "metadata": {},
   "outputs": [],
   "source": [
    "# Initiating Entra ID token provider via service principal's environment variables.\n",
    "token_provider3 = get_bearer_token_provider(\n",
    "    EnvironmentCredential(),\n",
    "    \"https://cognitiveservices.azure.com/.default\"\n",
    ")"
   ]
  },
  {
   "cell_type": "code",
   "execution_count": 10,
   "metadata": {},
   "outputs": [],
   "source": [
    "# Initiating Azure OpenAI client\n",
    "client3 = AzureOpenAI(\n",
    "    azure_endpoint = os.getenv(\"OPENAI_API_BASE\"),\n",
    "    azure_ad_token_provider = token_provider3,\n",
    "    api_version = os.getenv(\"OPENAI_API_VERSION\")\n",
    ")"
   ]
  },
  {
   "cell_type": "code",
   "execution_count": 11,
   "metadata": {},
   "outputs": [
    {
     "name": "stdout",
     "output_type": "stream",
     "text": [
      "The platypus is an intriguing semi-aquatic mammal native to eastern Australia, including Tasmania. It is one of the few monotremes, which are mammals that lay eggs instead of giving birth to live young. The platypus is easily recognized by its distinctive features: a beaver-like tail, webbed feet, and a characteristic duck-bill which it uses to forage for food underwater.\n"
     ]
    }
   ],
   "source": [
    "# Submitting a completion request to Azure OpenAI\n",
    "response3 = client3.chat.completions.create(\n",
    "    model = os.getenv(\"OPENAI_API_DEPLOY\"), # model = \"Azure OpenAI deployment name\".\n",
    "    messages = [\n",
    "        {\"role\": \"system\", \"content\": \"You are a friendly chatbot\"},\n",
    "        {\"role\": \"user\", \"content\": \"Choose a random animal and describe it to me in 3 sentences.\"}\n",
    "    ]\n",
    ")\n",
    "\n",
    "# Printing the response\n",
    "print(response3.choices[0].message.content)"
   ]
  },
  {
   "cell_type": "markdown",
   "metadata": {},
   "source": [
    "### 4. Authentication with Entra ID (Managed Identity)"
   ]
  },
  {
   "cell_type": "code",
   "execution_count": 12,
   "metadata": {},
   "outputs": [],
   "source": [
    "# Importing required packages\n",
    "from azure.identity import ManagedIdentityCredential, get_bearer_token_provider\n",
    "from openai import AzureOpenAI\n",
    "import os"
   ]
  },
  {
   "cell_type": "markdown",
   "metadata": {},
   "source": [
    "Specifics of the ManagedIdentityCredential class' use can be found here: https://learn.microsoft.com/en-us/python/api/azure-identity/azure.identity.managedidentitycredential?view=azure-python\n",
    "\n",
    "Please assign managed identity's client ID to **AZURE_MANAGED_IDENTITY_CLIENT_ID** environment variable.\n",
    "\n",
    "Please also ensure that your managed identity has \"**Cognitive Service OpenAI User**\" role assigned to it on Azure OpenAI resource."
   ]
  },
  {
   "cell_type": "code",
   "execution_count": 13,
   "metadata": {},
   "outputs": [],
   "source": [
    " # Retrieve credentials of a user-assigned managed identity\n",
    "MI_credential = ManagedIdentityCredential(\n",
    "    client_id = os.getenv(\"AZURE_MANAGED_IDENTITY_CLIENT_ID\"),\n",
    ")"
   ]
  },
  {
   "cell_type": "code",
   "execution_count": 14,
   "metadata": {},
   "outputs": [],
   "source": [
    "# Initiating Entra ID token provider the managed identity's credentials.\n",
    "token_provider4 = get_bearer_token_provider(\n",
    "    MI_credential,\n",
    "    \"https://cognitiveservices.azure.com/.default\"\n",
    ")"
   ]
  },
  {
   "cell_type": "code",
   "execution_count": 15,
   "metadata": {},
   "outputs": [],
   "source": [
    "# Initiating Azure OpenAI client\n",
    "client4 = AzureOpenAI(\n",
    "    azure_endpoint = os.getenv(\"OPENAI_API_BASE\"),\n",
    "    azure_ad_token_provider = token_provider4,\n",
    "    api_version = os.getenv(\"OPENAI_API_VERSION\")\n",
    ")"
   ]
  },
  {
   "cell_type": "code",
   "execution_count": 16,
   "metadata": {},
   "outputs": [
    {
     "name": "stdout",
     "output_type": "stream",
     "text": [
      "The Atlantic Puffin, also known as the \"sea parrot,\" is a charming seabird notable for its colorful beak and matching orange legs. These compact birds are excellent swimmers, using their wings to 'fly' underwater while hunting for fish. Puffins are social creatures, nesting in large colonies on cliffs and spending most of their lives at sea, only coming to land to breed.\n"
     ]
    }
   ],
   "source": [
    "# Submitting a completion request to Azure OpenAI\n",
    "response4 = client4.chat.completions.create(\n",
    "    model = os.getenv(\"OPENAI_API_DEPLOY\"), # model = \"Azure OpenAI deployment name\".\n",
    "    messages = [\n",
    "        {\"role\": \"system\", \"content\": \"You are a friendly chatbot\"},\n",
    "        {\"role\": \"user\", \"content\": \"Choose a random bird and describe it to me in 3 sentences.\"}\n",
    "    ]\n",
    ")\n",
    "\n",
    "# Printing the response\n",
    "print(response4.choices[0].message.content)"
   ]
  },
  {
   "cell_type": "code",
   "execution_count": null,
   "metadata": {},
   "outputs": [],
   "source": []
  }
 ],
 "metadata": {
  "kernelspec": {
   "display_name": "Python 3",
   "language": "python",
   "name": "python3"
  },
  "language_info": {
   "codemirror_mode": {
    "name": "ipython",
    "version": 3
   },
   "file_extension": ".py",
   "mimetype": "text/x-python",
   "name": "python",
   "nbconvert_exporter": "python",
   "pygments_lexer": "ipython3",
   "version": "3.8.10"
  },
  "orig_nbformat": 4
 },
 "nbformat": 4,
 "nbformat_minor": 2
}
